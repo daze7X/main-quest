{
 "cells": [
  {
   "cell_type": "code",
   "execution_count": 1,
   "id": "bad2a5fd-6a19-45cb-a008-f1ad456bbc51",
   "metadata": {},
   "outputs": [
    {
     "name": "stdout",
     "output_type": "stream",
     "text": [
      "Final weights (Input -> Hidden): [[-6.86114551 -3.90839307  3.36708423]\n",
      " [-6.17772814 -5.2044818  -1.72489705]]\n",
      "Final bias (Hidden): [[2.70076281 6.73713718 1.47337179]]\n",
      "Final weights (Hidden -> Output): [[-7.51569782  7.56122072]\n",
      " [ 7.00838332 -7.00858284]\n",
      " [-2.766683    2.94958466]]\n",
      "Final bias (Output): [[-0.88228072  0.71029628]]\n",
      "Prediction for input [1, 0]: [[0.96910604 0.02828894]]\n"
     ]
    }
   ],
   "source": [
    "import numpy as np\n",
    "\n",
    "# Input values (2 neurons)\n",
    "input_value = np.array([[0, 0], [0, 1], [1, 0], [1, 1]])\n",
    "\n",
    "# Output values (2 neurons)\n",
    "output = np.array([[0, 1], [1, 0], [1, 0], [0, 1]])\n",
    "\n",
    "# Bobot dan bias untuk input -> hidden (2 -> 3)\n",
    "weights_input_hidden = np.array([[0.2, -0.4, 0.5],\n",
    "                                  [-0.9, 0.3, -0.2]])\n",
    "bias_hidden = np.array([[-0.3, 0.3, 0.7]])\n",
    "\n",
    "# Bobot dan bias untuk hidden -> output (3 -> 2)\n",
    "weights_hidden_output = np.array([[-0.1, 0.8],\n",
    "                                   [0.2, -0.6],\n",
    "                                   [0.5, 0.3]])\n",
    "bias_output = np.array([[0.4, -0.6]])\n",
    "\n",
    "# Fungsi aktivasi sigmoid dan turunannya\n",
    "def sigmoid(x):\n",
    "    return 1 / (1 + np.exp(-x))\n",
    "\n",
    "def sigmoid_derivative(x):\n",
    "    return x * (1 - x)\n",
    "\n",
    "# Learning rate\n",
    "learning_rate = 0.1\n",
    "\n",
    "# Training loop\n",
    "for epochs in range(10000):\n",
    "    # Forward propagation\n",
    "    # Input to Hidden\n",
    "    hidden_layer_input = np.dot(input_value, weights_input_hidden) + bias_hidden\n",
    "    hidden_layer_output = sigmoid(hidden_layer_input)\n",
    "\n",
    "    # Hidden to Output\n",
    "    output_layer_input = np.dot(hidden_layer_output, weights_hidden_output) + bias_output\n",
    "    predicted_output = sigmoid(output_layer_input)\n",
    "\n",
    "    # Error\n",
    "    error = output - predicted_output\n",
    "\n",
    "    # Backpropagation\n",
    "    # Output layer\n",
    "    d_predicted_output = error * sigmoid_derivative(predicted_output)\n",
    "\n",
    "    # Hidden layer\n",
    "    error_hidden_layer = d_predicted_output.dot(weights_hidden_output.T)\n",
    "    d_hidden_layer = error_hidden_layer * sigmoid_derivative(hidden_layer_output)\n",
    "\n",
    "    # Update weights and biases\n",
    "    weights_hidden_output += hidden_layer_output.T.dot(d_predicted_output) * learning_rate\n",
    "    bias_output += np.sum(d_predicted_output, axis=0, keepdims=True) * learning_rate\n",
    "\n",
    "    weights_input_hidden += input_value.T.dot(d_hidden_layer) * learning_rate\n",
    "    bias_hidden += np.sum(d_hidden_layer, axis=0, keepdims=True) * learning_rate\n",
    "\n",
    "# Print final weights and biases\n",
    "print(\"Final weights (Input -> Hidden):\", weights_input_hidden)\n",
    "print(\"Final bias (Hidden):\", bias_hidden)\n",
    "print(\"Final weights (Hidden -> Output):\", weights_hidden_output)\n",
    "print(\"Final bias (Output):\", bias_output)\n",
    "\n",
    "# Test prediction\n",
    "test_input = np.array([0, 1])\n",
    "hidden_layer_input = np.dot(test_input, weights_input_hidden) + bias_hidden\n",
    "hidden_layer_output = sigmoid(hidden_layer_input)\n",
    "output_layer_input = np.dot(hidden_layer_output, weights_hidden_output) + bias_output\n",
    "predicted_output = sigmoid(output_layer_input)\n",
    "print(\"Prediction for input [1, 0]:\", predicted_output)\n"
   ]
  },
  {
   "cell_type": "code",
   "execution_count": null,
   "id": "8dcf5de2-de5b-4798-bd59-48de7d8263c2",
   "metadata": {},
   "outputs": [],
   "source": []
  }
 ],
 "metadata": {
  "kernelspec": {
   "display_name": "Python 3",
   "language": "python",
   "name": "python3"
  },
  "language_info": {
   "codemirror_mode": {
    "name": "ipython",
    "version": 3
   },
   "file_extension": ".py",
   "mimetype": "text/x-python",
   "name": "python",
   "nbconvert_exporter": "python",
   "pygments_lexer": "ipython3",
   "version": "3.12.6"
  }
 },
 "nbformat": 4,
 "nbformat_minor": 5
}
